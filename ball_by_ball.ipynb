{
  "nbformat": 4,
  "nbformat_minor": 0,
  "metadata": {
    "colab": {
      "name": "ball_by_ball.ipynb",
      "provenance": [],
      "collapsed_sections": []
    },
    "kernelspec": {
      "display_name": "Python 3",
      "name": "python3"
    },
    "language_info": {
      "name": "python"
    }
  },
  "cells": [
    {
      "cell_type": "code",
      "metadata": {
        "id": "gZAtNmBT6-vn"
      },
      "source": [
        "#importing libraries\n",
        "import pandas as pd\n",
        "import numpy as np\n",
        "from sklearn.metrics import r2_score\n",
        "from sklearn.model_selection import train_test_split\n",
        "from sklearn.linear_model    import LinearRegression   \n",
        "import pickle\n"
      ],
      "execution_count": 1,
      "outputs": []
    },
    {
      "cell_type": "code",
      "metadata": {
        "id": "odd47Ql7oK50"
      },
      "source": [
        "df_delivery = pd.read_csv('/content/deliveries.csv')"
      ],
      "execution_count": 2,
      "outputs": []
    },
    {
      "cell_type": "code",
      "metadata": {
        "id": "9L08iz8hEhR4"
      },
      "source": [
        "df_matches = pd.read_csv('/content/matches.csv')"
      ],
      "execution_count": 3,
      "outputs": []
    },
    {
      "cell_type": "code",
      "metadata": {
        "colab": {
          "base_uri": "https://localhost:8080/"
        },
        "id": "VQQmv6Mz7vjh",
        "outputId": "55ca302c-f183-4cc2-bf7b-6906cb73858b"
      },
      "source": [
        "df_delivery.batting_team.unique()"
      ],
      "execution_count": 4,
      "outputs": [
        {
          "output_type": "execute_result",
          "data": {
            "text/plain": [
              "array(['Sunrisers Hyderabad', 'Royal Challengers Bangalore',\n",
              "       'Mumbai Indians', 'Rising Pune Supergiant', 'Gujarat Lions',\n",
              "       'Kolkata Knight Riders', 'Kings XI Punjab', 'Delhi Daredevils',\n",
              "       'Chennai Super Kings', 'Rajasthan Royals', 'Deccan Chargers',\n",
              "       'Kochi Tuskers Kerala', 'Pune Warriors', 'Rising Pune Supergiants',\n",
              "       'Delhi Capitals'], dtype=object)"
            ]
          },
          "metadata": {
            "tags": []
          },
          "execution_count": 4
        }
      ]
    },
    {
      "cell_type": "code",
      "metadata": {
        "id": "3qNT60BIo0uw"
      },
      "source": [
        "#remove unnecessary columns from df_delivery\n",
        "removed_columns = ['batsman','non_striker','bowler','penalty_runs']\n",
        "df_delivery.drop(labels=removed_columns, axis=1, inplace=True)"
      ],
      "execution_count": 5,
      "outputs": []
    },
    {
      "cell_type": "code",
      "metadata": {
        "id": "mO6hPv6skSsD"
      },
      "source": [
        "#remove unnecessary columns from df_matches\n",
        "removed_columns = ['umpire1','umpire2','umpire3','player_of_match']\n",
        "df_matches.drop(labels=removed_columns, axis=1, inplace=True)"
      ],
      "execution_count": 6,
      "outputs": []
    },
    {
      "cell_type": "code",
      "metadata": {
        "colab": {
          "base_uri": "https://localhost:8080/"
        },
        "id": "fyIS4Cdbmw3x",
        "outputId": "cfb6998c-c75d-46a5-be33-706f8c2e4d8f"
      },
      "source": [
        "rows_with_nan = []\n",
        "for index, row in df_matches.iterrows():\n",
        "    is_nan_series = row.isnull()\n",
        "    if is_nan_series.any():\n",
        "        rows_with_nan.append(index)\n",
        "print(rows_with_nan)"
      ],
      "execution_count": 7,
      "outputs": [
        {
          "output_type": "stream",
          "text": [
            "[300, 461, 462, 466, 468, 469, 474, 476, 545, 570, 744]\n"
          ],
          "name": "stdout"
        }
      ]
    },
    {
      "cell_type": "code",
      "metadata": {
        "colab": {
          "base_uri": "https://localhost:8080/",
          "height": 36
        },
        "id": "u84t8RnHHpay",
        "outputId": "0167b1d6-f1f7-491f-a671-ed9609a6c88f"
      },
      "source": [
        "id_with_nan_in_matches = []\n",
        "for val in rows_with_nan:\n",
        "  id_with_nan_in_matches.append(df_matches.id[val])\n",
        "\"\"\"print(id_with_nan_in_matches)\"\"\""
      ],
      "execution_count": 8,
      "outputs": [
        {
          "output_type": "execute_result",
          "data": {
            "application/vnd.google.colaboratory.intrinsic+json": {
              "type": "string"
            },
            "text/plain": [
              "'print(id_with_nan_in_matches)'"
            ]
          },
          "metadata": {
            "tags": []
          },
          "execution_count": 8
        }
      ]
    },
    {
      "cell_type": "code",
      "metadata": {
        "id": "dlsYecxNGGhY"
      },
      "source": [
        "#removing matches with nan result\n",
        "index_names = df_delivery[ (df_delivery['match_id'] == 301) ].index\n",
        "df_delivery.drop(index_names, inplace = True)\n",
        "index_names = df_delivery[ (df_delivery['match_id'] == 462) ].index\n",
        "df_delivery.drop(index_names, inplace = True)\n",
        "index_names = df_delivery[ (df_delivery['match_id'] == 463) ].index\n",
        "df_delivery.drop(index_names, inplace = True)\n",
        "index_names = df_delivery[ (df_delivery['match_id'] == 467) ].index\n",
        "df_delivery.drop(index_names, inplace = True)\n",
        "index_names = df_delivery[ (df_delivery['match_id'] == 469) ].index\n",
        "df_delivery.drop(index_names, inplace = True)\n",
        "index_names = df_delivery[ (df_delivery['match_id'] == 470) ].index\n",
        "df_delivery.drop(index_names, inplace = True)\n",
        "index_names = df_delivery[ (df_delivery['match_id'] == 475) ].index\n",
        "df_delivery.drop(index_names, inplace = True)\n",
        "index_names = df_delivery[ (df_delivery['match_id'] == 477) ].index\n",
        "df_delivery.drop(index_names, inplace = True)\n",
        "index_names = df_delivery[ (df_delivery['match_id'] == 546) ].index\n",
        "df_delivery.drop(index_names, inplace = True)\n",
        "index_names = df_delivery[ (df_delivery['match_id'] == 571) ].index\n",
        "df_delivery.drop(index_names, inplace = True)\n",
        "index_names = df_delivery[ (df_delivery['match_id'] == 11340) ].index\n",
        "df_delivery.drop(index_names, inplace = True)\n",
        "\n",
        "#for df_matches  \n",
        "index_names = df_matches[ (df_matches['id'] == 301) ].index\n",
        "df_matches.drop(index_names, inplace = True)\n",
        "index_names = df_matches[ (df_matches['id'] == 462) ].index\n",
        "df_matches.drop(index_names, inplace = True)\n",
        "index_names = df_matches[ (df_matches['id'] == 463) ].index\n",
        "df_matches.drop(index_names, inplace = True)\n",
        "index_names = df_matches[ (df_matches['id'] == 467) ].index\n",
        "df_matches.drop(index_names, inplace = True)\n",
        "index_names = df_matches[ (df_matches['id'] == 469) ].index\n",
        "df_matches.drop(index_names, inplace = True)\n",
        "index_names = df_matches[ (df_matches['id'] == 470) ].index\n",
        "df_matches.drop(index_names, inplace = True)\n",
        "index_names = df_matches[ (df_matches['id'] == 475) ].index\n",
        "df_matches.drop(index_names, inplace = True)\n",
        "index_names = df_matches[ (df_matches['id'] == 477) ].index\n",
        "df_matches.drop(index_names, inplace = True)\n",
        "index_names = df_matches[ (df_matches['id'] == 546) ].index\n",
        "df_matches.drop(index_names, inplace = True)\n",
        "index_names = df_matches[ (df_matches['id'] == 571) ].index\n",
        "df_matches.drop(index_names, inplace = True)\n",
        "index_names = df_matches[ (df_matches['id'] == 11340) ].index\n",
        "df_matches.drop(index_names, inplace = True)"
      ],
      "execution_count": 10,
      "outputs": []
    },
    {
      "cell_type": "code",
      "metadata": {
        "id": "j9OtqdN2UBFH"
      },
      "source": [
        "#removing unwanted innings\n",
        "df_delivery.drop(df_delivery[df_delivery['inning'] >2].index, inplace = True)\n",
        "#remove nann for dismissal fielder and player name\n",
        "df_delivery[\"dismissal_kind\"] = df_delivery[\"dismissal_kind\"].fillna(0) "
      ],
      "execution_count": 11,
      "outputs": []
    },
    {
      "cell_type": "code",
      "metadata": {
        "id": "lnDjthlfCwKU"
      },
      "source": [
        "for val in range(178830):\n",
        "  if(val in df_delivery.index):\n",
        "    if df_delivery.loc[val,'dismissal_kind'] == \"bowled\":\n",
        "      df_delivery.loc[val,'dismissal_kind'] =1\n",
        "    elif df_delivery.loc[val,'dismissal_kind'] == \"caught\":\n",
        "      df_delivery.loc[val,'dismissal_kind'] =2\n",
        "    elif df_delivery.loc[val,'dismissal_kind'] == \"run out\":\n",
        "      df_delivery.loc[val,'dismissal_kind'] =3\n",
        "    elif df_delivery.loc[val,'dismissal_kind'] == \"caught and bowled\":\n",
        "      df_delivery.loc[val,'dismissal_kind'] =4\n",
        "    elif df_delivery.loc[val,'dismissal_kind'] == \"stumped\":\n",
        "      df_delivery.loc[val,'dismissal_kind'] =9\n",
        "    elif df_delivery.loc[val,'dismissal_kind'] == \"lbw\":\n",
        "      df_delivery.loc[val,'dismissal_kind'] =5\n",
        "    elif df_delivery.loc[val,'dismissal_kind'] == \"retired hurt\":\n",
        "      df_delivery.loc[val,'dismissal_kind'] =6\n",
        "    elif df_delivery.loc[val,'dismissal_kind'] == \"obstructing the field\":\n",
        "      df_delivery.loc[val,'dismissal_kind'] =7\n",
        "    elif df_delivery.loc[val,'dismissal_kind'] == \"hit wicket\":\n",
        "      df_delivery.loc[val,'dismissal_kind'] =8"
      ],
      "execution_count": null,
      "outputs": []
    },
    {
      "cell_type": "code",
      "metadata": {
        "id": "Nyaa-yi0MONm"
      },
      "source": [
        "df_delivery['runs_till_now'] = 0\n",
        "curr_inning = 0\n",
        "prev_inning =0\n",
        "start_inn_counter = 0\n",
        "end_inning_counter =0\n",
        "for x in range(1489):\n",
        "  curr_inning = df_delivery.iloc[end_inning_counter,1]\n",
        "  prev_inning = df_delivery.iloc[start_inn_counter,1]\n",
        "  while curr_inning == prev_inning:\n",
        "    end_inning_counter = end_inning_counter + 1\n",
        "    curr_inning = df_delivery.iloc[end_inning_counter,1]\n",
        "  df_delivery.iloc[start_inn_counter:end_inning_counter,17] = df_delivery.iloc[start_inn_counter:end_inning_counter,13].cumsum(axis =0)\n",
        "  start_inn_counter = end_inning_counter\n",
        "  prev_inning = curr_inning"
      ],
      "execution_count": null,
      "outputs": []
    },
    {
      "cell_type": "code",
      "metadata": {
        "id": "5CzkfuWmfXAg"
      },
      "source": [
        "df_delivery['wicket_falled'] = 0\n",
        "dismissed = 0\n",
        "for val in range(178830):\n",
        "  if(val in df_delivery.index):\n",
        "    if df_delivery.loc[val,'dismissal_kind'] >0:\n",
        "      df_delivery.loc[val,'wicket_falled'] =1\n",
        "df_delivery['wickets_till_now'] = 0\n"
      ],
      "execution_count": null,
      "outputs": []
    },
    {
      "cell_type": "code",
      "metadata": {
        "id": "dN0wn8a1fbpE"
      },
      "source": [
        "curr_inning = 0\n",
        "prev_inning =0\n",
        "start_inn_counter = 0\n",
        "end_inning_counter =0\n",
        "for x in range(1489):\n",
        "  curr_inning = df_delivery.iloc[end_inning_counter,1]\n",
        "  prev_inning = df_delivery.iloc[start_inn_counter,1]\n",
        "  while curr_inning == prev_inning:\n",
        "    end_inning_counter = end_inning_counter + 1\n",
        "    curr_inning = df_delivery.iloc[end_inning_counter,1]\n",
        "  df_delivery.iloc[start_inn_counter:end_inning_counter,19] = df_delivery.iloc[start_inn_counter:end_inning_counter,18].cumsum(axis =0)\n",
        "  start_inn_counter = end_inning_counter\n",
        "  prev_inning = curr_inning"
      ],
      "execution_count": null,
      "outputs": []
    },
    {
      "cell_type": "markdown",
      "metadata": {
        "id": "2v-MXm9hNBFU"
      },
      "source": [
        "MAKE NEW COLUMN FOR TOTAL RUNS IN NEWT OVER TO BE PREDICTED"
      ]
    },
    {
      "cell_type": "code",
      "metadata": {
        "id": "vvf9fZa15zKQ"
      },
      "source": [
        "df_delivery['total_runs_in_over'] = 0"
      ],
      "execution_count": null,
      "outputs": []
    },
    {
      "cell_type": "code",
      "metadata": {
        "id": "TTkRJVVYM_0r"
      },
      "source": [
        "curr_over = 1\n",
        "next_over = 1\n",
        "start_counter = 0\n",
        "end_counter = 1\n",
        "for x in range(23650):\n",
        "  while curr_over == next_over:\n",
        "    end_counter = end_counter + 1\n",
        "    next_over = df_delivery.iloc[end_counter,4]\n",
        "  if df_delivery.iloc[end_counter,1] == df_delivery.iloc[end_counter-1,1]:\n",
        "    while end_counter != start_counter and (curr_over - next_over < 3):\n",
        "      df_delivery.iloc[start_counter,20] = df_delivery.iloc[end_counter-1,17]\n",
        "      start_counter = start_counter +1 \n",
        "  curr_over = next_over\n",
        "  start_counter = end_counter"
      ],
      "execution_count": null,
      "outputs": []
    },
    {
      "cell_type": "code",
      "metadata": {
        "id": "Pf6sJ-noMXcl"
      },
      "source": [
        "#removing last match data\n",
        "df_delivery.drop(df_delivery[df_delivery['match_id'] >11414].index, inplace = True)\n",
        "df_matches.drop(df_matches[df_matches['id'] >11414].index, inplace = True)"
      ],
      "execution_count": null,
      "outputs": []
    },
    {
      "cell_type": "code",
      "metadata": {
        "id": "KwXiuwf7rBke"
      },
      "source": [
        "df_delivery.drop(df_delivery[df_delivery['batting_team'] =='Pune Warriors'].index, inplace = True)\n",
        "df_delivery.drop(df_delivery[df_delivery['batting_team'] =='Kochi Tuskers Kerala'].index, inplace = True)\n",
        "df_delivery.drop(df_delivery[df_delivery['batting_team'] =='Deccan Chargers'].index, inplace = True)\n",
        "df_delivery.drop(df_delivery[df_delivery['bowling_team'] =='Pune Warriors'].index, inplace = True)\n",
        "df_delivery.drop(df_delivery[df_delivery['bowling_team'] =='Kochi Tuskers Kerala'].index, inplace = True)\n",
        "df_delivery.drop(df_delivery[df_delivery['bowling_team'] =='Deccan Chargers'].index, inplace = True)\n",
        "df_delivery.drop(df_delivery[df_delivery['bowling_team'] =='Gujarat Lions'].index, inplace = True)\n",
        "df_delivery.drop(df_delivery[df_delivery['batting_team'] =='Gujarat Lions'].index, inplace = True)\n",
        "df_delivery.drop(df_delivery[df_delivery['bowling_team'] =='Rising Pune Supergiants'].index, inplace = True)\n",
        "df_delivery.drop(df_delivery[df_delivery['batting_team'] =='Rising Pune Supergiant'].index, inplace = True)\n",
        "df_delivery.drop(df_delivery[df_delivery['bowling_team'] =='Rising Pune Supergiant'].index, inplace = True)\n",
        "df_delivery.drop(df_delivery[df_delivery['batting_team'] =='Rising Pune Supergiants'].index, inplace = True)\n"
      ],
      "execution_count": null,
      "outputs": []
    },
    {
      "cell_type": "code",
      "metadata": {
        "id": "xkiJ_h1elTYG"
      },
      "source": [
        "#merging both datasets\n",
        "merged_inner = pd.merge(left=df_delivery, right=df_matches, left_on='match_id', right_on='id')"
      ],
      "execution_count": null,
      "outputs": []
    },
    {
      "cell_type": "code",
      "metadata": {
        "id": "pUq9QIzGxZzO"
      },
      "source": [
        "removed_columns = ['wicket_falled','dismissal_kind','total_runs_in_over','result','winner' \t,'win_by_runs', \t'win_by_wickets'\n",
        "                    ,'is_super_over','wide_runs','bye_runs','legbye_runs',\n",
        "                   'noball_runs','batsman_runs','extra_runs',\n",
        "                   'total_runs','player_dismissed','fielder','id',\n",
        "                   'team1','team2','dl_applied','city']\n",
        "merged_inner.drop(labels=removed_columns, axis=1, inplace=True)"
      ],
      "execution_count": null,
      "outputs": []
    },
    {
      "cell_type": "code",
      "metadata": {
        "id": "gFR7z9GLNMEl"
      },
      "source": [
        "encoded_df = pd.get_dummies(data=merged_inner, columns=['batting_team', 'bowling_team','toss_winner'])\n",
        "merged_inner = encoded_df"
      ],
      "execution_count": null,
      "outputs": []
    },
    {
      "cell_type": "code",
      "metadata": {
        "id": "O_4ecxPF2tHf"
      },
      "source": [
        "from sklearn.preprocessing import LabelEncoder\n",
        "labelencoder = LabelEncoder()\n",
        "merged_inner['toss_decision'] = labelencoder.fit_transform(merged_inner['toss_decision'])\n",
        "merged_inner['venue'] = labelencoder.fit_transform(merged_inner['venue'])\n",
        "merged_inner['season'] = labelencoder.fit_transform(merged_inner['season'])"
      ],
      "execution_count": null,
      "outputs": []
    },
    {
      "cell_type": "code",
      "metadata": {
        "id": "rmxud0Ea-jE4"
      },
      "source": [
        "#remove unnecessary columns from df_delivery\n",
        "reserved_dataset = merged_inner\n",
        "removed_columns = ['match_id','date']\n",
        "reserved_dataset.drop(labels=removed_columns, axis=1, inplace=True)\n",
        "fianl_dataset = reserved_dataset\n",
        "new_dataset = fianl_dataset"
      ],
      "execution_count": null,
      "outputs": []
    },
    {
      "cell_type": "code",
      "metadata": {
        "id": "ALxJlLaaNoCO"
      },
      "source": [
        "new_dataset = fianl_dataset\n",
        "fianl_dataset.head()"
      ],
      "execution_count": null,
      "outputs": []
    },
    {
      "cell_type": "code",
      "metadata": {
        "id": "pdLDET-ONtxt"
      },
      "source": [
        "train_x = fianl_dataset.iloc[:, [26,27,28,29,30,31,32,33,34,8,9,10,11,12,13,14,15,16,17,18,19,20,21,22,23,24,25,0,1,2,4,5,6,7]]\n",
        "train_y = fianl_dataset[[\"runs_till_now\"]]"
      ],
      "execution_count": null,
      "outputs": []
    },
    {
      "cell_type": "code",
      "metadata": {
        "id": "RPbpEtzYjfTt"
      },
      "source": [
        "x_train,x_test,y_train, y_test = train_test_split(train_x,train_y, test_size =0.30000001, random_state=0)\n",
        "from sklearn.linear_model import LinearRegression\n",
        "regressor = LinearRegression()\n",
        "regressor.fit(x_train,y_train)\n",
        "y_pred =regressor.predict(x_test)\n",
        "from sklearn import metrics\n",
        "print(np.sqrt(metrics.mean_squared_error(y_test, y_pred)))\n",
        "print(r2_score(y_pred,y_test))"
      ],
      "execution_count": null,
      "outputs": []
    },
    {
      "cell_type": "code",
      "metadata": {
        "id": "T_7qDq7zOe-8"
      },
      "source": [
        "#toss winner batting ball"
      ],
      "execution_count": null,
      "outputs": []
    },
    {
      "cell_type": "code",
      "metadata": {
        "id": "JaZ8ylnunbM9"
      },
      "source": [
        "main_x = [[ 0, 0, 1, 0, 0, 0, 0, 0, 0,       1, 0, 0, 0, 0, 0, 0, 0, 0,   1, 0, 0, 0, 0, 0, 0, 0, 0, 2, 5, 1, 5, 11, 1, 25]]\n"
      ],
      "execution_count": null,
      "outputs": []
    },
    {
      "cell_type": "code",
      "metadata": {
        "colab": {
          "base_uri": "https://localhost:8080/"
        },
        "id": "xHpoMrdzQL1Z",
        "outputId": "76a63ffa-74ad-4364-c779-788cf2ea1516"
      },
      "source": [
        "main_x[0][32]"
      ],
      "execution_count": null,
      "outputs": [
        {
          "output_type": "execute_result",
          "data": {
            "text/plain": [
              "1"
            ]
          },
          "metadata": {
            "tags": []
          },
          "execution_count": 100
        }
      ]
    },
    {
      "cell_type": "code",
      "metadata": {
        "colab": {
          "base_uri": "https://localhost:8080/"
        },
        "id": "6ll_lIzYoyxC",
        "outputId": "97b45b07-86cd-40d8-c1a5-1db883c0c0ef"
      },
      "source": [
        "print(\"predicted score for re questd over is\", (regressor.predict(main_x)))"
      ],
      "execution_count": null,
      "outputs": [
        {
          "output_type": "stream",
          "text": [
            "predicted score for re questd over is [[20.14302142]]\n"
          ],
          "name": "stdout"
        }
      ]
    },
    {
      "cell_type": "code",
      "metadata": {
        "id": "PsVZVmZ_2QYV"
      },
      "source": [
        "filename = 'over-by-over-score-lr-model.pkl'\n",
        "\n",
        "\n",
        "\"\"\"\n",
        "inning == (1,2)\n",
        "over\n",
        "ball\n",
        "wickets_till_now\n",
        "season = 11\n",
        "toss_decision == (0==bat,1==field)\n",
        "venue(0-37)\n",
        "batting_team_Chennai Super Kings\n",
        "batting_team_Delhi Capitals \t\n",
        "batting_team_Delhi Daredevils\n",
        "batting_team_Kings XI Punjab \t\n",
        "batting_team_Kolkata Knight Riders\n",
        "batting_team_Mumbai Indians \t\n",
        "batting_team_Rajasthan Royals \t\n",
        "batting_team_Royal Challengers Bangalore\n",
        "batting_team_Sunrisers Hyderabad \t\n",
        "bowling_team_Chennai Super Kings \t\n",
        "bowling_team_Delhi Capitals \t\n",
        "bowling_team_Delhi Daredevils \t\n",
        "bowling_team_Kings XI Punjab \t\n",
        "bowling_team_Kolkata Knight Riders \t\n",
        "bowling_team_Mumbai Indians \t\n",
        "bowling_team_Rajasthan Royals \t\n",
        "bowling_team_Royal Challengers Bangalore \t\n",
        "bowling_team_Sunrisers Hyderabad \t\n",
        "toss_winner_Chennai Super Kings \t\n",
        "toss_winner_Delhi Capitals \t\n",
        "toss_winner_Delhi Daredevils \t\n",
        "toss_winner_Kings XI Punjab \t\n",
        "toss_winner_Kolkata Knight Riders \t\n",
        "toss_winner_Mumbai Indians \t\n",
        "toss_winner_Rajasthan Royals \t\n",
        "toss_winner_Royal Challengers Bangalore \t\n",
        "toss_winner_Sunrisers Hyderabad\"\"\"pickle.dump(regressor, open(filename, 'wb')) "
      ],
      "execution_count": null,
      "outputs": []
    },
    {
      "cell_type": "code",
      "metadata": {
        "id": "dEdQlDd_D1to"
      },
      "source": [
        "\n",
        "\n",
        "\n",
        "\n",
        "\n",
        "\"\"\"\n",
        "Rajiv Gandhi International Stadium, Uppal', 25\n",
        "'Maharashtra Cricket Association Stadium',  19\n",
        "'Saurashtra Cricket Association Stadium', \n",
        "'Holkar Cricket Stadium', 11\n",
        "'M Chinnaswamy Stadium',  15\n",
        "'Wankhede Stadium',   35\n",
        "'Eden Gardens',  7\n",
        "'Feroz Shah Kotla',  8\n",
        "'Punjab Cricket Association IS Bindra Stadium, Mohali',  23\n",
        "'Green Park', \n",
        "'Punjab Cricket Association Stadium, Mohali',  24==23\n",
        "'Sawai Mansingh Stadium',  28\n",
        "'MA Chidambaram Stadium, Chepauk',  18\n",
        "'Dr DY Patil Sports Academy',    5\n",
        "'Newlands',  21\n",
        "'St Georges Park', 23\n",
        "'Kingsmead',  14\n",
        "'SuperSport Park', 1\n",
        "'Buffalo Park',   2\n",
        "'Sardar Patel Stadium, Motera', 16\n",
        "'Barabati Stadium',\n",
        "'Vidarbha Cricket Association Stadium, Jamtha', 29\n",
        "'Himachal Pradesh Cricket Association Stadium',   5\n",
        "'Nehru Stadium',\n",
        "'Dr. Y.S. Rajasekhara Reddy ACA-VDCA Cricket Stadium',\n",
        "'Subrata Roy Sahara Stadium',\n",
        "'Shaheed Veer Narayan Singh International Stadium',  2\n",
        "'JSCA International Stadium Complex', \n",
        "'Sheikh Zayed Stadium',\n",
        "'Sharjah Cricket Stadium', \n",
        "'M. A. Chidambaram Stadium',  16\n",
        "'Feroz Shah Kotla Ground',   9\n",
        "'M. Chinnaswamy Stadium',  15\n",
        "'Rajiv Gandhi Intl. Cricket Stadium',  25\n",
        "'IS Bindra Stadium',   12\n",
        "'ACA-VDCA Stadium'  0\"\"\"\n",
        "\n"
      ],
      "execution_count": null,
      "outputs": []
    }
  ]
}